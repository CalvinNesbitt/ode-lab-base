{
 "cells": [
  {
   "cell_type": "markdown",
   "metadata": {},
   "source": [
    "# Demo Use for Lorenz 63 Model\n",
    "\n",
    "Demonstrates how you can use `ode_lab` to observe the Lorenz 63 model."
   ]
  },
  {
   "cell_type": "code",
   "execution_count": null,
   "metadata": {},
   "outputs": [],
   "source": [
    "from ode_lab.base.observe import TrajectoryObserver\n",
    "from ode_lab.base.examples import l63\n",
    "\n",
    "# IC and Number of Observations\n",
    "ic = [1, 1, 1]\n",
    "observation_freq = 0.01\n",
    "number_of_observations = 1000\n",
    "transient = 10\n",
    "\n",
    "# Create observer and make observations\n",
    "l63_observer = TrajectoryObserver(l63, ic, observable_names=['x', 'y', 'z'], parameters={'sigma': 11, 'beta': 8/3})\n",
    "l63_observer.make_observations(number_of_observations,observation_freq, transient)\n",
    "observations = l63_observer.observations\n",
    "\n",
    "# Look at the results\n",
    "print(observations.head())\n",
    "observations.x.plot()"
   ]
  }
 ],
 "metadata": {
  "kernelspec": {
   "display_name": "ode_lab",
   "language": "python",
   "name": "python3"
  },
  "language_info": {
   "codemirror_mode": {
    "name": "ipython",
    "version": 3
   },
   "file_extension": ".py",
   "mimetype": "text/x-python",
   "name": "python",
   "nbconvert_exporter": "python",
   "pygments_lexer": "ipython3",
   "version": "3.12.4"
  }
 },
 "nbformat": 4,
 "nbformat_minor": 2
}
