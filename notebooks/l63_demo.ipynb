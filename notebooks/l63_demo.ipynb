{
 "cells": [
  {
   "cell_type": "markdown",
   "metadata": {},
   "source": [
    "# Demo Use for Lorenz 63 Model\n",
    "\n",
    "Demonstrates how you can use `ode_lab` to observe the Lorenz 63 model."
   ]
  },
  {
   "cell_type": "code",
   "execution_count": null,
   "metadata": {},
   "outputs": [],
   "source": [
    "from ode_lab.base.observe import TrajectoryObserver\n",
    "from ode_lab.base.integrate import Integrator\n",
    "from ode_lab.base.lab import ODELab\n",
    "from ode_lab.base.examples import l63\n",
    "\n",
    "# IC and Number of Observations\n",
    "ic = [1, 1, 1]\n",
    "observation_freq = 0.01\n",
    "number_of_observations = 1000\n",
    "transient = 10\n",
    "\n",
    "# Create observer and make observations\n",
    "l63_integrator = Integrator(l63, ic, parameters={'sigma': 10, 'beta': 8/3, 'rho': 28})\n",
    "obsever = TrajectoryObserver(observable_names=['x', 'y', 'z'])\n",
    "lab = ODELab(l63_integrator, obsever)\n",
    "lab.make_observations(number_of_observations,observation_freq, transient)\n",
    "observations = lab.observations\n",
    "\n",
    "# Look at the results\n",
    "print(observations.head())\n",
    "observations.x.plot()"
   ]
  }
 ],
 "metadata": {
  "kernelspec": {
   "display_name": "ode_lab",
   "language": "python",
   "name": "python3"
  },
  "language_info": {
   "codemirror_mode": {
    "name": "ipython",
    "version": 3
   },
   "file_extension": ".py",
   "mimetype": "text/x-python",
   "name": "python",
   "nbconvert_exporter": "python",
   "pygments_lexer": "ipython3",
   "version": "3.12.4"
  }
 },
 "nbformat": 4,
 "nbformat_minor": 2
}
